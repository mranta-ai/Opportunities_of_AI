{
 "cells": [
  {
   "cell_type": "markdown",
   "metadata": {},
   "source": [
    "## Opportunities of AI\n",
    "*Mikko Ranta*"
   ]
  },
  {
   "cell_type": "markdown",
   "metadata": {},
   "source": [
    "The following chapters present examples of AI applications. The chapters have an introductory section followed by sections of practical examples that use Python code and are hopefully easy to follow.\n",
    "* Chapter 1 introduces computer vision in more detail.\n",
    "* Chapter 2 focuses on natural language processing methods.\n",
    "* Chapter 3 is about decision making and explainable AI.\n",
    "\n",
    "Throughout the text, I have tried to use only public domain -images. If you found a copyrighted image, please contact me.\n",
    "\n",
    "Also, this is an early beta version of the text. If you notice any typos/errors, please contact me."
   ]
  },
  {
   "cell_type": "code",
   "execution_count": null,
   "metadata": {},
   "outputs": [],
   "source": []
  }
 ],
 "metadata": {
  "kernelspec": {
   "display_name": "Python 3",
   "language": "python",
   "name": "python3"
  },
  "language_info": {
   "codemirror_mode": {
    "name": "ipython",
    "version": 3
   },
   "file_extension": ".py",
   "mimetype": "text/x-python",
   "name": "python",
   "nbconvert_exporter": "python",
   "pygments_lexer": "ipython3",
   "version": "3.8.2"
  }
 },
 "nbformat": 4,
 "nbformat_minor": 4
}
